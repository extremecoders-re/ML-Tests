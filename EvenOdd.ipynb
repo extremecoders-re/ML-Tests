{
  "nbformat": 4,
  "nbformat_minor": 0,
  "metadata": {
    "colab": {
      "name": "EvenOdd.ipynb",
      "version": "0.3.2",
      "views": {},
      "default_view": {},
      "provenance": [],
      "collapsed_sections": []
    },
    "kernelspec": {
      "name": "python2",
      "display_name": "Python 2"
    },
    "accelerator": "GPU"
  },
  "cells": [
    {
      "metadata": {
        "id": "GkLH-gDuLB3C",
        "colab_type": "text"
      },
      "cell_type": "markdown",
      "source": [
        "## Training a Neural Network to differentiate between even and odd numbers.\n",
        "\n",
        "Numbers are represented in fixed width binary notation. Output represented in one-hot encoding  (1 out of k). 01 = even number, 10 = odd\n"
      ]
    },
    {
      "metadata": {
        "id": "nBQrDg8e1PDp",
        "colab_type": "code",
        "colab": {
          "autoexec": {
            "startup": false,
            "wait_interval": 0
          },
          "base_uri": "https://localhost:8080/",
          "height": 34
        },
        "outputId": "179836e5-ef10-4035-bce0-022d313b75dc",
        "executionInfo": {
          "status": "ok",
          "timestamp": 1530439795221,
          "user_tz": -330,
          "elapsed": 29427,
          "user": {
            "displayName": "extreme coders",
            "photoUrl": "https://lh3.googleusercontent.com/a/default-user=s128",
            "userId": "106462781714282579754"
          }
        }
      },
      "cell_type": "code",
      "source": [
        "from keras.models import Sequential\n",
        "from keras.layers import Dense\n",
        "\n",
        "\n",
        "# Helper function to convert a number \n",
        "# to its fixed width binary representation\n",
        "def to_bit_array(num, width=32):\n",
        "    list_of_bits = map(int, list(np.binary_repr(num, width)))\n",
        "    return list_of_bits\n",
        "\n",
        "\n",
        "# input data\n",
        "# list of lists. Inner lists represent the 32 bits\n",
        "data = [to_bit_array(i) for i in xrange(100000)]\n",
        "\n",
        "X = np.array(data)\n",
        "Y = np.array([[v[-1], v[-1]^1]  for v in data])\n",
        "\n",
        "# Sequential is a fully connected network\n",
        "model = Sequential()\n",
        "\n",
        "# 32 inputs and 32 neurons in first hidden layer\n",
        "model.add(Dense(units=32, input_dim=32, activation='tanh'))\n",
        "\n",
        "# 2 neurons in output layer\n",
        "model.add(Dense(units=2, activation='sigmoid'))\n",
        "\n",
        "\n",
        "model.compile(loss='binary_crossentropy', \n",
        "              optimizer='adam', \n",
        "              metrics=['accuracy'])\n",
        "\n",
        "# epochs is the number of times to retrain over the same data set\n",
        "# batch_size is how may elements to process in parallel at one go\n",
        "model.fit(X, Y, epochs=5, batch_size=100, verbose=0)\n"
      ],
      "execution_count": 85,
      "outputs": [
        {
          "output_type": "execute_result",
          "data": {
            "text/plain": [
              "<keras.callbacks.History at 0x7f26a9be14d0>"
            ]
          },
          "metadata": {
            "tags": []
          },
          "execution_count": 85
        }
      ]
    },
    {
      "metadata": {
        "id": "5YDhE_y3M6jB",
        "colab_type": "text"
      },
      "cell_type": "markdown",
      "source": [
        "**Once we have trained the model, time to make predictions.**\n",
        "\n",
        "`1 0` = Odd\n",
        "\n",
        "`0 1` = Even"
      ]
    },
    {
      "metadata": {
        "id": "eWzmqzRpC-Pq",
        "colab_type": "code",
        "colab": {
          "autoexec": {
            "startup": false,
            "wait_interval": 0
          },
          "base_uri": "https://localhost:8080/",
          "height": 867
        },
        "outputId": "53baba38-53b2-4de2-acb4-bd7d6f6a5979",
        "executionInfo": {
          "status": "ok",
          "timestamp": 1530439799030,
          "user_tz": -330,
          "elapsed": 1802,
          "user": {
            "displayName": "extreme coders",
            "photoUrl": "https://lh3.googleusercontent.com/a/default-user=s128",
            "userId": "106462781714282579754"
          }
        }
      },
      "cell_type": "code",
      "source": [
        "def output_readable(out):\n",
        "    if out[0] == 1 and out[1] == 0:\n",
        "        return 'Odd'\n",
        "    elif out[0] == 0 and out[1] == 1:\n",
        "        return 'Even'\n",
        "    else:\n",
        "        return 'Unknown'\n",
        "    \n",
        "# Some random numbers to check for odd or even\n",
        "test = np.random.randint(1, 10000, size=(50))\n",
        "\n",
        "for num in test:\n",
        "    list_of_bits = np.array([to_bit_array(num)])\n",
        "    pred = model.predict(list_of_bits)\n",
        "    print num, '->', output_readable(np.round(pred)[0])\n"
      ],
      "execution_count": 86,
      "outputs": [
        {
          "output_type": "stream",
          "text": [
            "5484 -> Even\n",
            "3623 -> Odd\n",
            "9350 -> Even\n",
            "7012 -> Even\n",
            "4668 -> Even\n",
            "2810 -> Even\n",
            "889 -> Odd\n",
            "5046 -> Even\n",
            "1279 -> Odd\n",
            "6140 -> Even\n",
            "4263 -> Odd\n",
            "9675 -> Odd\n",
            "6007 -> Odd\n",
            "9459 -> Odd\n",
            "9074 -> Even\n",
            "1408 -> Even\n",
            "9405 -> Odd\n",
            "2651 -> Odd\n",
            "1780 -> Even\n",
            "103 -> Odd\n",
            "9822 -> Even\n",
            "5498 -> Even\n",
            "5853 -> Odd\n",
            "1925 -> Odd\n",
            "2815 -> Odd\n",
            "9419 -> Odd\n",
            "3843 -> Odd\n",
            "3667 -> Odd\n",
            "7645 -> Odd\n",
            "758 -> Even\n",
            "5642 -> Even\n",
            "5105 -> Odd\n",
            "4713 -> Odd\n",
            "3618 -> Even\n",
            "56 -> Even\n",
            "6940 -> Even\n",
            "9073 -> Odd\n",
            "9356 -> Even\n",
            "884 -> Even\n",
            "9141 -> Odd\n",
            "7982 -> Even\n",
            "7677 -> Odd\n",
            "7851 -> Odd\n",
            "9961 -> Odd\n",
            "8983 -> Odd\n",
            "5303 -> Odd\n",
            "3404 -> Even\n",
            "5576 -> Even\n",
            "4778 -> Even\n",
            "3096 -> Even\n"
          ],
          "name": "stdout"
        }
      ]
    },
    {
      "metadata": {
        "id": "DVGuraZOQQvw",
        "colab_type": "text"
      },
      "cell_type": "markdown",
      "source": [
        "## References worth a read\n",
        "\n",
        "- https://hackernoon.com/what-is-one-hot-encoding-why-and-when-do-you-have-to-use-it-e3c6186d008f\n",
        "- https://www.kaggle.com/dansbecker/using-categorical-data-with-one-hot-encoding\n",
        "- https://stats.stackexchange.com/questions/157985/neural-network-binary-vs-discrete-continuous-input/233604#233604\n",
        "- http://www.machineintellegence.com/different-types-of-activation-functions-in-keras/\n",
        "- https://towardsdatascience.com/exploring-activation-functions-for-neural-networks-73498da59b02\n",
        "- https://machinelearningmastery.com/tutorial-first-neural-network-python-keras/\n",
        "- https://elitedatascience.com/keras-tutorial-deep-learning-in-python\n",
        "- https://keras.io/activations/\n",
        "- https://medium.com/data-science-group-iitr/loss-functions-and-optimization-algorithms-demystified-bb92daff331c\n",
        "- https://keras.io/losses/"
      ]
    }
  ]
}